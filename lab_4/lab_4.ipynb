{
 "cells": [
  {
   "cell_type": "markdown",
   "metadata": {},
   "source": [
    "<h3>Лабораторна робота №4<br>                                                                   \n",
    "Структури для роботи з великими обсягами даних в Python</h3>\n",
    "<h4>Виконав студент групи ФБ-33<br>\n",
    "Лозенко Павло</h4>\n"
   ]
  },
  {
   "cell_type": "markdown",
   "metadata": {
    "jp-MarkdownHeadingCollapsed": true
   },
   "source": [
    "Мета: отримати навички роботи із структурами для зберігання в Python (python, numpy, pandas, numpy array, dataframe, timeit)\n",
    "Теоретичні відомості\n",
    "Мінімально необхідні навички роботи із масивами та фреймами вже\n",
    "отримано при виконанні лабораторних робіт 1 та 2.\n",
    "За потреби можна скористатись офіційними сторінками відповідних проектів:\n",
    "1) http://pandas.pydata.org/pandas-docs/version/0.15.2/index.html\n",
    "2) https://docs.scipy.org/doc/scipy/</h5>"
   ]
  },
  {
   "cell_type": "code",
   "execution_count": 1,
   "metadata": {},
   "outputs": [
    {
     "name": "stdout",
     "output_type": "stream",
     "text": [
      "done\n"
     ]
    }
   ],
   "source": [
    "import os\n",
    "import time\n",
    "import urllib.request\n",
    "from datetime import datetime\n",
    "import zipfile\n",
    "import pandas as pd\n",
    "import numpy as np \n",
    "import missingno as ms\n",
    "print(\"done\")"
   ]
  },
  {
   "cell_type": "code",
   "execution_count": 6,
   "metadata": {},
   "outputs": [],
   "source": [
    "directory = os.getcwd()\n",
    "def download_csv(directory):\n",
    "    url = \"https://archive.ics.uci.edu/static/public/235/individual+household+electric+power+consumption.zip\"\n",
    "    retries = 3\n",
    "    for attempt in range(retries):\n",
    "        try:\n",
    "            with urllib.request.urlopen(url) as wp:\n",
    "                text = wp.read()\n",
    "            break\n",
    "        except urllib.error.URLError as e:\n",
    "            print(f\"Error downloading data: {e}\")\n",
    "            if attempt < retries - 1:\n",
    "                print(f\"Retrying download in 5 seconds...\")\n",
    "                time.sleep(5)\n",
    "            else:\n",
    "                print(f\"Failed to download data after {retries} attempts.\")\n",
    "                continue\n",
    "\n",
    "    filename = \"Individual_Household_Electric_Power_Consumption.zip\"\n",
    "    filepath = os.path.join(directory, filename)\n",
    "\n",
    "    try:\n",
    "        with open(filepath, 'wb') as out:\n",
    "            out.write(text)\n",
    "        print(f\"Process is downloading:\\nfile_zip:{filename}...\\n\")\n",
    "        print(f\"File_zip:{filename} downloaded successfully.\")\n",
    "        print(\"=\" * 80)\n",
    "    except IOError as e:\n",
    "        print(f\"Error writing file {filename}: {e}\")\n",
    "\n",
    "def unzip(directory):\n",
    "    zip_file = os.path.join(directory, \"Individual_Household_Electric_Power_Consumption.zip\")\n",
    "    new_filename = 'individual_household_electric_power_consumption_2006_2010.csv'\n",
    "    \n",
    "    try:\n",
    "        # Extract the ZIP file\n",
    "        with zipfile.ZipFile(zip_file, 'r') as zip_data:\n",
    "            zip_data.extractall(path=directory)\n",
    "            for filename in zip_data.namelist():\n",
    "                if filename.endswith('.txt'):\n",
    "                    os.rename(os.path.join(directory, filename), os.path.join(directory, new_filename))\n",
    "        # Explicitly close the zip file\n",
    "        zip_data.close()\n",
    "        \n",
    "        # Attempt to delete the ZIP file with retries\n",
    "        if os.path.exists(zip_file):\n",
    "            max_retries = 5  # Increased retries\n",
    "            for attempt in range(max_retries):\n",
    "                try:\n",
    "                    os.unlink(zip_file)\n",
    "                    print(f\"[+] Deleted {zip_file}\")\n",
    "                    break\n",
    "                except PermissionError as e:\n",
    "                    if attempt < max_retries - 1:\n",
    "                        print(f\"PermissionError: {e}. Retrying in 2 seconds... (Attempt {attempt + 1}/{max_retries})\")\n",
    "                        time.sleep(2)  # Increased delay\n",
    "                    else:\n",
    "                        print(f\"Warning: Failed to delete {zip_file} after {max_retries} attempts: {e}\")\n",
    "                        print(\"This may be due to an antivirus program or another process locking the file.\")\n",
    "                        print(\"Continuing without deleting the ZIP file. You can manually delete it later.\")\n",
    "        print(f\"Files extracted and renamed to {new_filename} successfully.\")\n",
    "    except Exception as e:\n",
    "        print(f\"Error in unzip process: {e}\")\n",
    "\n",
    "def clean_directory(directory):\n",
    "    # Define the specific files to delete\n",
    "    target_files = [\n",
    "        \"Individual_Household_Electric_Power_Consumption.zip\",\n",
    "        \"individual_household_electric_power_consumption_2006_2010.csv\"\n",
    "    ]\n",
    "\n",
    "    # Verify directory is not System32\n",
    "    if directory.lower().startswith(r'c:\\windows\\system32'):\n",
    "        raise RuntimeError(\n",
    "            \"Error: Directory is set to C:\\\\Windows\\\\System32. \"\n",
    "            \"Please use a user-writable directory like Y:\\\\labs\\\\lab4.\"\n",
    "        )\n",
    "\n",
    "    if not os.path.exists(directory):\n",
    "        os.makedirs(directory)\n",
    "        print(\"[+] Directory created successfully.\")\n",
    "\n",
    "    if input(\"Do you want to clean the directory? (y/n): \").lower() == 'y':\n",
    "        for filename in os.listdir(directory):\n",
    "            if filename in target_files:\n",
    "                filepath = os.path.join(directory, filename)\n",
    "                try:\n",
    "                    if os.path.isfile(filepath):\n",
    "                        os.unlink(filepath)\n",
    "                        print(f\"[+] Deleted {filename}\")\n",
    "                except PermissionError as e:\n",
    "                    print(f\"Error deleting file {filename}: {e}\")\n",
    "                except Exception as e:\n",
    "                    print(f\"Unexpected error deleting file {filename}: {e}\")\n",
    "            else:\n",
    "                print(f\"[+] Skipped file {filename} (not a target file)\")\n",
    "        print(\"[+] Directory cleaning completed.\\n\")\n",
    "    else:\n",
    "        print(\"[+] Directory cleaning skipped.\\n\")"
   ]
  },
  {
   "cell_type": "code",
   "execution_count": 7,
   "metadata": {},
   "outputs": [
    {
     "name": "stdin",
     "output_type": "stream",
     "text": [
      "Do you want to clean the directory? (y/n):  y\n"
     ]
    },
    {
     "name": "stdout",
     "output_type": "stream",
     "text": [
      "[+] Skipped file .ipynb_checkpoints (not a target file)\n",
      "[+] Deleted Individual_Household_Electric_Power_Consumption.zip\n",
      "[+] Deleted individual_household_electric_power_consumption_2006_2010.csv\n",
      "[+] Skipped file lab_4.ipynb (not a target file)\n",
      "[+] Directory cleaning completed.\n",
      "\n",
      "Process is downloading:\n",
      "file_zip:Individual_Household_Electric_Power_Consumption.zip...\n",
      "\n",
      "File_zip:Individual_Household_Electric_Power_Consumption.zip downloaded successfully.\n",
      "================================================================================\n",
      "[+] Deleted Y:\\labs\\lab4\\Individual_Household_Electric_Power_Consumption.zip\n",
      "Files extracted and renamed to individual_household_electric_power_consumption_2006_2010.csv successfully.\n"
     ]
    }
   ],
   "source": [
    "directory =r\"Y:\\labs\\lab4\"\n",
    "clean_directory(directory)\n",
    "download_csv(directory)\n",
    "unzip(directory)"
   ]
  },
  {
   "cell_type": "markdown",
   "metadata": {},
   "source": [
    "To_csv with pandas"
   ]
  },
  {
   "cell_type": "code",
   "execution_count": 9,
   "metadata": {},
   "outputs": [
    {
     "name": "stderr",
     "output_type": "stream",
     "text": [
      "C:\\Users\\pavlo\\AppData\\Local\\Temp\\ipykernel_18988\\928891412.py:3: DtypeWarning: Columns (2,3,4,5,6,7) have mixed types. Specify dtype option on import or set low_memory=False.\n",
      "  data_frame = pd.read_csv(filepath, delimiter=delimiter)\n"
     ]
    },
    {
     "name": "stdout",
     "output_type": "stream",
     "text": [
      "<class 'pandas.core.frame.DataFrame'>\n",
      "RangeIndex: 2075259 entries, 0 to 2075258\n",
      "Data columns (total 9 columns):\n",
      " #   Column                 Dtype  \n",
      "---  ------                 -----  \n",
      " 0   Date                   object \n",
      " 1   Time                   object \n",
      " 2   Global_active_power    object \n",
      " 3   Global_reactive_power  object \n",
      " 4   Voltage                object \n",
      " 5   Global_intensity       object \n",
      " 6   Sub_metering_1         object \n",
      " 7   Sub_metering_2         object \n",
      " 8   Sub_metering_3         float64\n",
      "dtypes: float64(1), object(8)\n",
      "memory usage: 142.5+ MB\n"
     ]
    }
   ],
   "source": [
    "def read_to_csv(filepath, delimiter=';'):\n",
    "    try:\n",
    "        data_frame = pd.read_csv(filepath, delimiter=delimiter)\n",
    "        data_frame.to_csv(filepath, index=False)\n",
    "        data_frame.info()\n",
    "    except Exception as e:\n",
    "        print(f\"Error reading CSV file: {e}\")\n",
    "\n",
    "filepath = os.path.join(r\"Y:\\labs\\lab4\", \"individual_household_electric_power_consumption_2006_2010.csv\")\n",
    "read_to_csv(filepath)"
   ]
  },
  {
   "cell_type": "markdown",
   "metadata": {},
   "source": [
    "To read_csv with numpy"
   ]
  },
  {
   "cell_type": "code",
   "execution_count": 10,
   "metadata": {},
   "outputs": [
    {
     "data": {
      "text/plain": [
       "array(['Date,Time,Global_active_power,Global_reactive_power,Voltage,Global_intensity,Sub_metering_1,Sub_metering_2,Sub_metering_3',\n",
       "       '16/12/2006,17:24:00,4.216,0.418,234.840,18.400,0.000,1.000,17.0',\n",
       "       '16/12/2006,17:25:00,5.360,0.436,233.630,23.000,0.000,1.000,16.0',\n",
       "       ..., '26/11/2010,21:00:00,0.938,0.0,239.82,3.8,0.0,0.0,0.0',\n",
       "       '26/11/2010,21:01:00,0.934,0.0,239.7,3.8,0.0,0.0,0.0',\n",
       "       '26/11/2010,21:02:00,0.932,0.0,239.55,3.8,0.0,0.0,0.0'],\n",
       "      shape=(2075260,), dtype='<U121')"
      ]
     },
     "execution_count": 10,
     "metadata": {},
     "output_type": "execute_result"
    }
   ],
   "source": [
    "def read_with_numpy(filepath, delimiter=';', save_csv=False, save_path=None):\n",
    "    try:\n",
    "        data_numpy = np.genfromtxt(filepath, delimiter=delimiter, dtype=None, encoding=None)\n",
    "        if save_csv and save_path is not None:\n",
    "            np.savetxt(save_path, data_numpy, delimiter=',', fmt='%s')\n",
    "            print(\"Data saved to CSV file:\", save_path)\n",
    "        \n",
    "        return data_numpy\n",
    "    \n",
    "    except Exception as e:\n",
    "        print(f\"Error reading CSV file with NumPy: {e}\")\n",
    "        return None\n",
    "filepath = os.path.join(r\"Y:\\labs\\lab4\", \"individual_household_electric_power_consumption_2006_2010.csv\")\n",
    "read_with_numpy(filepath)"
   ]
  },
  {
   "cell_type": "markdown",
   "metadata": {},
   "source": [
    "Data clean"
   ]
  },
  {
   "cell_type": "code",
   "execution_count": 11,
   "metadata": {},
   "outputs": [],
   "source": [
    "def data_cleaning(filepath):\n",
    "    Dtype = {\n",
    "        'Global_active_power': float,\n",
    "        'Global_reactive_power': float,\n",
    "        'Voltage': float,\n",
    "        'Global_intensity': float,\n",
    "        'Sub_metering_1': float,\n",
    "        'Sub_metering_2': float,\n",
    "        'Sub_metering_3': float\n",
    "    }\n",
    "    data_frame = pd.read_csv(filepath, dtype=Dtype, na_values='?')\n",
    "    ms.matrix(data_frame)\n",
    "    data_frame.dropna(inplace=True)\n",
    "    data_frame['Date'] = pd.to_datetime(data_frame['Date'], dayfirst=True).dt.strftime('%Y-%m-%d')\n",
    "    data_frame['Time'] = pd.to_datetime(data_frame['Time'], format='%H:%M:%S').dt.time\n",
    "    data_frame_numpy = data_frame.to_numpy()\n",
    "    \n",
    "    return data_frame, data_frame_numpy "
   ]
  },
  {
   "cell_type": "markdown",
   "metadata": {},
   "source": [
    "<h4>print Data Frame and Numpy array</h4>"
   ]
  },
  {
   "cell_type": "code",
   "execution_count": 14,
   "metadata": {},
   "outputs": [
    {
     "name": "stdout",
     "output_type": "stream",
     "text": [
      "Перші 15 рядків:\n",
      "+------------+----------+---------------------+-----------------------+---------+------------------+----------------+----------------+----------------+\n",
      "|    Date    |   Time   | Global_active_power | Global_reactive_power | Voltage | Global_intensity | Sub_metering_1 | Sub_metering_2 | Sub_metering_3 |\n",
      "+------------+----------+---------------------+-----------------------+---------+------------------+----------------+----------------+----------------+\n",
      "| 2006-12-16 | 17:24:00 |        4.216        |         0.418         | 234.84  |       18.4       |      0.0       |      1.0       |      17.0      |\n",
      "| 2006-12-16 | 17:25:00 |        5.36         |         0.436         | 233.63  |       23.0       |      0.0       |      1.0       |      16.0      |\n",
      "| 2006-12-16 | 17:26:00 |        5.374        |         0.498         | 233.29  |       23.0       |      0.0       |      2.0       |      17.0      |\n",
      "| 2006-12-16 | 17:27:00 |        5.388        |         0.502         | 233.74  |       23.0       |      0.0       |      1.0       |      17.0      |\n",
      "| 2006-12-16 | 17:28:00 |        3.666        |         0.528         | 235.68  |       15.8       |      0.0       |      1.0       |      17.0      |\n",
      "| 2006-12-16 | 17:29:00 |        3.52         |         0.522         | 235.02  |       15.0       |      0.0       |      2.0       |      17.0      |\n",
      "| 2006-12-16 | 17:30:00 |        3.702        |         0.52          | 235.09  |       15.8       |      0.0       |      1.0       |      17.0      |\n",
      "| 2006-12-16 | 17:31:00 |         3.7         |         0.52          | 235.22  |       15.8       |      0.0       |      1.0       |      17.0      |\n",
      "| 2006-12-16 | 17:32:00 |        3.668        |         0.51          | 233.99  |       15.8       |      0.0       |      1.0       |      17.0      |\n",
      "| 2006-12-16 | 17:33:00 |        3.662        |         0.51          | 233.86  |       15.8       |      0.0       |      2.0       |      16.0      |\n",
      "| 2006-12-16 | 17:34:00 |        4.448        |         0.498         | 232.86  |       19.6       |      0.0       |      1.0       |      17.0      |\n",
      "| 2006-12-16 | 17:35:00 |        5.412        |         0.47          | 232.78  |       23.2       |      0.0       |      1.0       |      17.0      |\n",
      "| 2006-12-16 | 17:36:00 |        5.224        |         0.478         | 232.99  |       22.4       |      0.0       |      1.0       |      16.0      |\n",
      "| 2006-12-16 | 17:37:00 |        5.268        |         0.398         | 232.91  |       22.6       |      0.0       |      2.0       |      17.0      |\n",
      "| 2006-12-16 | 17:38:00 |        4.054        |         0.422         | 235.24  |       17.6       |      0.0       |      1.0       |      17.0      |\n",
      "+------------+----------+---------------------+-----------------------+---------+------------------+----------------+----------------+----------------+\n",
      "Перші 15 рядків:\n",
      "+------------+----------+-------+-------+--------+------+-----+-----+------+\n",
      "| 2006-12-16 | 17:24:00 | 4.216 | 0.418 | 234.84 | 18.4 | 0.0 | 1.0 | 17.0 |\n",
      "| 2006-12-16 | 17:25:00 | 5.36  | 0.436 | 233.63 | 23.0 | 0.0 | 1.0 | 16.0 |\n",
      "| 2006-12-16 | 17:26:00 | 5.374 | 0.498 | 233.29 | 23.0 | 0.0 | 2.0 | 17.0 |\n",
      "| 2006-12-16 | 17:27:00 | 5.388 | 0.502 | 233.74 | 23.0 | 0.0 | 1.0 | 17.0 |\n",
      "| 2006-12-16 | 17:28:00 | 3.666 | 0.528 | 235.68 | 15.8 | 0.0 | 1.0 | 17.0 |\n",
      "| 2006-12-16 | 17:29:00 | 3.52  | 0.522 | 235.02 | 15.0 | 0.0 | 2.0 | 17.0 |\n",
      "| 2006-12-16 | 17:30:00 | 3.702 | 0.52  | 235.09 | 15.8 | 0.0 | 1.0 | 17.0 |\n",
      "| 2006-12-16 | 17:31:00 |  3.7  | 0.52  | 235.22 | 15.8 | 0.0 | 1.0 | 17.0 |\n",
      "| 2006-12-16 | 17:32:00 | 3.668 | 0.51  | 233.99 | 15.8 | 0.0 | 1.0 | 17.0 |\n",
      "| 2006-12-16 | 17:33:00 | 3.662 | 0.51  | 233.86 | 15.8 | 0.0 | 2.0 | 16.0 |\n",
      "| 2006-12-16 | 17:34:00 | 4.448 | 0.498 | 232.86 | 19.6 | 0.0 | 1.0 | 17.0 |\n",
      "| 2006-12-16 | 17:35:00 | 5.412 | 0.47  | 232.78 | 23.2 | 0.0 | 1.0 | 17.0 |\n",
      "| 2006-12-16 | 17:36:00 | 5.224 | 0.478 | 232.99 | 22.4 | 0.0 | 1.0 | 16.0 |\n",
      "| 2006-12-16 | 17:37:00 | 5.268 | 0.398 | 232.91 | 22.6 | 0.0 | 2.0 | 17.0 |\n",
      "| 2006-12-16 | 17:38:00 | 4.054 | 0.422 | 235.24 | 17.6 | 0.0 | 1.0 | 17.0 |\n",
      "+------------+----------+-------+-------+--------+------+-----+-----+------+\n"
     ]
    },
    {
     "data": {
      "image/png": "[encoded data removed]",
      "text/plain": [
       "<Figure size 2500x1000 with 2 Axes>"
      ]
     },
     "metadata": {},
     "output_type": "display_data"
    },
    {
     "data": {
      "image/png": "[encoded data removed]",
      "text/plain": [
       "<Figure size 2500x1000 with 2 Axes>"
      ]
     },
     "metadata": {},
     "output_type": "display_data"
    }
   ],
   "source": [
    "filepath = os.path.join(r\"Y:\\labs\\lab4\", \"individual_household_electric_power_consumption_2006_2010.csv\")\n",
    "from tabulate import tabulate\n",
    "cleaned_data_frame, cleaned_data_frame_numpy = data_cleaning(filepath)\n",
    "\n",
    "def print_head(data):\n",
    "    if isinstance(data, pd.DataFrame):\n",
    "        table_data = data.head(15).values.tolist()\n",
    "        headers = data.columns.tolist()\n",
    "        print(\"Перші 15 рядків:\")\n",
    "        print(tabulate(table_data, headers=headers, tablefmt='pretty'))\n",
    "    elif isinstance(data, np.ndarray):\n",
    "        table_data = data[:15].tolist()\n",
    "        print(\"Перші 15 рядків:\")\n",
    "        print(tabulate(table_data, tablefmt='pretty'))\n",
    "    else:\n",
    "        print(\"Непідтримуваний тип даних.\")\n",
    "\n",
    "ms.matrix(cleaned_data_frame)\n",
    "\n",
    "print_head(cleaned_data_frame)\n",
    "print_head(cleaned_data_frame_numpy)\n"
   ]
  },
  {
   "cell_type": "markdown",
   "metadata": {},
   "source": [
    "<h3>Перелік атрибутивної інформації: </h3>\n",
    "date: дата виміру у форматі dd/mm/yyyy\n",
    "time: час у форматі hh:mm:ss\n",
    "global_active_power: активна потужність, яку споживає\n",
    "домогосподарство за хвилину (усереднено) [кВт]\n",
    "global_reactive_power: реактивна потужність, яку споживає\n",
    "домогосподарство за хвилину (усереднено) [кВт]\n",
    "voltage: напруга, усереднена за хвилину спостереження [В]\n",
    "global_intensity: усереднена силу струму для домогосподарства [A]\n",
    "sub_metering_1: набір споживачів енергії No1 [Вт-годин активної\n",
    "енергії], відповідає кухні, на якій є машина для миття посуду на\n",
    "мікрохвильовка (електричної плити немає, використовується газова).\n",
    "sub_metering_2: набір споживачів енергії No2 [Вт-годин активної\n",
    "енергії], відповіє пральні, в якій працює пральна машина, сушарка,\n",
    "холодильних та ввімкнено світло.\n",
    "sub_metering_3: набір споживачів енергії No3 [Вт-годин активної\n",
    "енергії], відповідає бойлеру та кондиціонеру."
   ]
  },
  {
   "cell_type": "markdown",
   "metadata": {},
   "source": [
    "<h4> Завдання першого рівня </h4>"
   ]
  },
  {
   "cell_type": "markdown",
   "metadata": {},
   "source": [
    "Обрати всі домогосподарства, у яких загальна активна споживана потужність перевищує 5 кВт."
   ]
  },
  {
   "cell_type": "code",
   "execution_count": 15,
   "metadata": {},
   "outputs": [],
   "source": [
    "def household_df(cleaned_data_frame):\n",
    "    start_time = time.time()\n",
    "    active_power_df = cleaned_data_frame[cleaned_data_frame[\"Global_active_power\"] > 5.0] \n",
    "    end_time = time.time()\n",
    "    execution_time = end_time - start_time\n",
    "    print(\"Час виконання для DataFrame:\", execution_time)\n",
    "    return active_power_df\n",
    "\n",
    "def household_numpy(cleaned_data_frame_numpy):\n",
    "    start_time = time.time()\n",
    "    indices = np.where(cleaned_data_frame_numpy[:, 2] > 5)\n",
    "    active_power_np = cleaned_data_frame_numpy[indices]\n",
    "    end_time = time.time()\n",
    "    execution_time = end_time - start_time\n",
    "    print(\"Час виконання для NumPy:\", execution_time)\n",
    "    return active_power_np\n"
   ]
  },
  {
   "cell_type": "code",
   "execution_count": 16,
   "metadata": {},
   "outputs": [
    {
     "name": "stdout",
     "output_type": "stream",
     "text": [
      "Час виконання для DataFrame: 0.015060186386108398\n",
      "Час виконання для NumPy: 0.08774590492248535\n",
      "Перші 15 рядків:\n",
      "+------------+----------+---------------------+-----------------------+---------+------------------+----------------+----------------+----------------+\n",
      "|    Date    |   Time   | Global_active_power | Global_reactive_power | Voltage | Global_intensity | Sub_metering_1 | Sub_metering_2 | Sub_metering_3 |\n",
      "+------------+----------+---------------------+-----------------------+---------+------------------+----------------+----------------+----------------+\n",
      "| 2006-12-16 | 17:25:00 |        5.36         |         0.436         | 233.63  |       23.0       |      0.0       |      1.0       |      16.0      |\n",
      "| 2006-12-16 | 17:26:00 |        5.374        |         0.498         | 233.29  |       23.0       |      0.0       |      2.0       |      17.0      |\n",
      "| 2006-12-16 | 17:27:00 |        5.388        |         0.502         | 233.74  |       23.0       |      0.0       |      1.0       |      17.0      |\n",
      "| 2006-12-16 | 17:35:00 |        5.412        |         0.47          | 232.78  |       23.2       |      0.0       |      1.0       |      17.0      |\n",
      "| 2006-12-16 | 17:36:00 |        5.224        |         0.478         | 232.99  |       22.4       |      0.0       |      1.0       |      16.0      |\n",
      "| 2006-12-16 | 17:37:00 |        5.268        |         0.398         | 232.91  |       22.6       |      0.0       |      2.0       |      17.0      |\n",
      "| 2006-12-16 | 17:44:00 |        5.894        |          0.0          | 232.69  |       25.4       |      0.0       |      0.0       |      16.0      |\n",
      "| 2006-12-16 | 17:45:00 |        7.706        |          0.0          | 230.98  |       33.2       |      0.0       |      0.0       |      17.0      |\n",
      "| 2006-12-16 | 17:46:00 |        7.026        |          0.0          | 232.21  |       30.6       |      0.0       |      0.0       |      16.0      |\n",
      "| 2006-12-16 | 17:47:00 |        5.174        |          0.0          | 234.19  |       22.0       |      0.0       |      0.0       |      17.0      |\n",
      "| 2006-12-16 | 18:05:00 |        6.052        |         0.192         | 232.93  |       26.2       |      0.0       |      37.0      |      17.0      |\n",
      "| 2006-12-16 | 18:06:00 |        6.752        |         0.186         | 232.12  |       29.0       |      0.0       |      36.0      |      17.0      |\n",
      "| 2006-12-16 | 18:07:00 |        6.474        |         0.144         | 231.85  |       27.8       |      0.0       |      37.0      |      16.0      |\n",
      "| 2006-12-16 | 18:08:00 |        6.308        |         0.116         | 232.25  |       27.0       |      0.0       |      36.0      |      17.0      |\n",
      "| 2006-12-16 | 18:35:00 |        6.072        |          0.0          | 232.48  |       26.4       |      0.0       |      27.0      |      17.0      |\n",
      "+------------+----------+---------------------+-----------------------+---------+------------------+----------------+----------------+----------------+\n",
      "Перші 15 рядків:\n",
      "+------------+----------+-------+-------+--------+------+-----+------+------+\n",
      "| 2006-12-16 | 17:25:00 | 5.36  | 0.436 | 233.63 | 23.0 | 0.0 | 1.0  | 16.0 |\n",
      "| 2006-12-16 | 17:26:00 | 5.374 | 0.498 | 233.29 | 23.0 | 0.0 | 2.0  | 17.0 |\n",
      "| 2006-12-16 | 17:27:00 | 5.388 | 0.502 | 233.74 | 23.0 | 0.0 | 1.0  | 17.0 |\n",
      "| 2006-12-16 | 17:35:00 | 5.412 | 0.47  | 232.78 | 23.2 | 0.0 | 1.0  | 17.0 |\n",
      "| 2006-12-16 | 17:36:00 | 5.224 | 0.478 | 232.99 | 22.4 | 0.0 | 1.0  | 16.0 |\n",
      "| 2006-12-16 | 17:37:00 | 5.268 | 0.398 | 232.91 | 22.6 | 0.0 | 2.0  | 17.0 |\n",
      "| 2006-12-16 | 17:44:00 | 5.894 |  0.0  | 232.69 | 25.4 | 0.0 | 0.0  | 16.0 |\n",
      "| 2006-12-16 | 17:45:00 | 7.706 |  0.0  | 230.98 | 33.2 | 0.0 | 0.0  | 17.0 |\n",
      "| 2006-12-16 | 17:46:00 | 7.026 |  0.0  | 232.21 | 30.6 | 0.0 | 0.0  | 16.0 |\n",
      "| 2006-12-16 | 17:47:00 | 5.174 |  0.0  | 234.19 | 22.0 | 0.0 | 0.0  | 17.0 |\n",
      "| 2006-12-16 | 18:05:00 | 6.052 | 0.192 | 232.93 | 26.2 | 0.0 | 37.0 | 17.0 |\n",
      "| 2006-12-16 | 18:06:00 | 6.752 | 0.186 | 232.12 | 29.0 | 0.0 | 36.0 | 17.0 |\n",
      "| 2006-12-16 | 18:07:00 | 6.474 | 0.144 | 231.85 | 27.8 | 0.0 | 37.0 | 16.0 |\n",
      "| 2006-12-16 | 18:08:00 | 6.308 | 0.116 | 232.25 | 27.0 | 0.0 | 36.0 | 17.0 |\n",
      "| 2006-12-16 | 18:35:00 | 6.072 |  0.0  | 232.48 | 26.4 | 0.0 | 27.0 | 17.0 |\n",
      "+------------+----------+-------+-------+--------+------+-----+------+------+\n"
     ]
    }
   ],
   "source": [
    "household_df_result = household_df(cleaned_data_frame)\n",
    "household_numpy_result = household_numpy(cleaned_data_frame_numpy)\n",
    "print_head(household_df_result)\n",
    "print_head(household_numpy_result) "
   ]
  },
  {
   "cell_type": "markdown",
   "metadata": {},
   "source": [
    "Обрати всі домогосподарства, у яких вольтаж перевищую 235 В. "
   ]
  },
  {
   "cell_type": "code",
   "execution_count": 17,
   "metadata": {},
   "outputs": [],
   "source": [
    "def household_df_2(cleaned_data_frame):\n",
    "    start_time = time.time()\n",
    "    cleaned_data_frame_voltage = cleaned_data_frame[cleaned_data_frame[\"Voltage\"] > 235]\n",
    "    end_time = time.time()\n",
    "    execution_time = end_time - start_time\n",
    "    print(\"Час виконання для DataFrame:\", execution_time)\n",
    "    return cleaned_data_frame_voltage\n",
    "\n",
    "def household_numpy_2(cleaned_data_frame_numpy):\n",
    "    start_time = time.time()\n",
    "    indices = np.where(cleaned_data_frame_numpy[:, 4] > 235)\n",
    "    cleaned_data_frame_voltage_numpy = cleaned_data_frame_numpy[indices]\n",
    "    end_time = time.time()\n",
    "    execution_time = end_time - start_time\n",
    "    print(\"Час виконання для NumPy:\", execution_time)\n",
    "    return cleaned_data_frame_voltage_numpy"
   ]
  },
  {
   "cell_type": "code",
   "execution_count": 18,
   "metadata": {},
   "outputs": [
    {
     "name": "stdout",
     "output_type": "stream",
     "text": [
      "Час виконання для DataFrame: 0.16059446334838867\n",
      "Час виконання для NumPy: 0.2031240463256836\n",
      "Перші 15 рядків:\n",
      "+------------+----------+---------------------+-----------------------+---------+------------------+----------------+----------------+----------------+\n",
      "|    Date    |   Time   | Global_active_power | Global_reactive_power | Voltage | Global_intensity | Sub_metering_1 | Sub_metering_2 | Sub_metering_3 |\n",
      "+------------+----------+---------------------+-----------------------+---------+------------------+----------------+----------------+----------------+\n",
      "| 2006-12-16 | 17:28:00 |        3.666        |         0.528         | 235.68  |       15.8       |      0.0       |      1.0       |      17.0      |\n",
      "| 2006-12-16 | 17:29:00 |        3.52         |         0.522         | 235.02  |       15.0       |      0.0       |      2.0       |      17.0      |\n",
      "| 2006-12-16 | 17:30:00 |        3.702        |         0.52          | 235.09  |       15.8       |      0.0       |      1.0       |      17.0      |\n",
      "| 2006-12-16 | 17:31:00 |         3.7         |         0.52          | 235.22  |       15.8       |      0.0       |      1.0       |      17.0      |\n",
      "| 2006-12-16 | 17:38:00 |        4.054        |         0.422         | 235.24  |       17.6       |      0.0       |      1.0       |      17.0      |\n",
      "| 2006-12-16 | 17:39:00 |        3.384        |         0.282         | 237.14  |       14.2       |      0.0       |      0.0       |      17.0      |\n",
      "| 2006-12-16 | 17:40:00 |        3.27         |         0.152         | 236.73  |       13.8       |      0.0       |      0.0       |      17.0      |\n",
      "| 2006-12-16 | 17:41:00 |        3.43         |         0.156         | 237.06  |       14.4       |      0.0       |      0.0       |      17.0      |\n",
      "| 2006-12-16 | 17:42:00 |        3.266        |          0.0          | 237.13  |       13.8       |      0.0       |      0.0       |      18.0      |\n",
      "| 2006-12-16 | 17:43:00 |        3.728        |          0.0          | 235.84  |       16.4       |      0.0       |      0.0       |      17.0      |\n",
      "| 2006-12-16 | 17:49:00 |        3.248        |          0.0          | 236.66  |       13.6       |      0.0       |      0.0       |      17.0      |\n",
      "| 2006-12-16 | 17:50:00 |        3.236        |          0.0          | 235.84  |       13.6       |      0.0       |      0.0       |      17.0      |\n",
      "| 2006-12-16 | 17:51:00 |        3.228        |          0.0          |  235.6  |       13.6       |      0.0       |      0.0       |      17.0      |\n",
      "| 2006-12-16 | 17:52:00 |        3.258        |          0.0          | 235.49  |       13.8       |      0.0       |      0.0       |      17.0      |\n",
      "| 2006-12-16 | 17:53:00 |        3.178        |          0.0          | 235.28  |       13.4       |      0.0       |      0.0       |      17.0      |\n",
      "+------------+----------+---------------------+-----------------------+---------+------------------+----------------+----------------+----------------+\n",
      "Перші 15 рядків:\n",
      "+------------+----------+-------+-------+--------+------+-----+-----+------+\n",
      "| 2006-12-16 | 17:28:00 | 3.666 | 0.528 | 235.68 | 15.8 | 0.0 | 1.0 | 17.0 |\n",
      "| 2006-12-16 | 17:29:00 | 3.52  | 0.522 | 235.02 | 15.0 | 0.0 | 2.0 | 17.0 |\n",
      "| 2006-12-16 | 17:30:00 | 3.702 | 0.52  | 235.09 | 15.8 | 0.0 | 1.0 | 17.0 |\n",
      "| 2006-12-16 | 17:31:00 |  3.7  | 0.52  | 235.22 | 15.8 | 0.0 | 1.0 | 17.0 |\n",
      "| 2006-12-16 | 17:38:00 | 4.054 | 0.422 | 235.24 | 17.6 | 0.0 | 1.0 | 17.0 |\n",
      "| 2006-12-16 | 17:39:00 | 3.384 | 0.282 | 237.14 | 14.2 | 0.0 | 0.0 | 17.0 |\n",
      "| 2006-12-16 | 17:40:00 | 3.27  | 0.152 | 236.73 | 13.8 | 0.0 | 0.0 | 17.0 |\n",
      "| 2006-12-16 | 17:41:00 | 3.43  | 0.156 | 237.06 | 14.4 | 0.0 | 0.0 | 17.0 |\n",
      "| 2006-12-16 | 17:42:00 | 3.266 |  0.0  | 237.13 | 13.8 | 0.0 | 0.0 | 18.0 |\n",
      "| 2006-12-16 | 17:43:00 | 3.728 |  0.0  | 235.84 | 16.4 | 0.0 | 0.0 | 17.0 |\n",
      "| 2006-12-16 | 17:49:00 | 3.248 |  0.0  | 236.66 | 13.6 | 0.0 | 0.0 | 17.0 |\n",
      "| 2006-12-16 | 17:50:00 | 3.236 |  0.0  | 235.84 | 13.6 | 0.0 | 0.0 | 17.0 |\n",
      "| 2006-12-16 | 17:51:00 | 3.228 |  0.0  | 235.6  | 13.6 | 0.0 | 0.0 | 17.0 |\n",
      "| 2006-12-16 | 17:52:00 | 3.258 |  0.0  | 235.49 | 13.8 | 0.0 | 0.0 | 17.0 |\n",
      "| 2006-12-16 | 17:53:00 | 3.178 |  0.0  | 235.28 | 13.4 | 0.0 | 0.0 | 17.0 |\n",
      "+------------+----------+-------+-------+--------+------+-----+-----+------+\n"
     ]
    },
    {
     "name": "stdout",
     "output_type": "stream",
     "text": [
      "Час виконання для NumPy: 0.253464937210083\n",
      "Перші 15 рядків DataFrame:\n",
      "+------------+----------+---------------------+-----------------------+---------+------------------+----------------+----------------+----------------+\n",
      "|    Date    |   Time   | Global_active_power | Global_reactive_power | Voltage | Global_intensity | Sub_metering_1 | Sub_metering_2 | Sub_metering_3 |\n",
      "+------------+----------+---------------------+-----------------------+---------+------------------+----------------+----------------+----------------+\n",
      "| 2006-12-16 | 17:28:00 |        3.666        |         0.528         | 235.68  |       15.8       |      0.0       |      1.0       |      17.0      |\n",
      "| 2006-12-16 | 17:29:00 |        3.52         |         0.522         | 235.02  |       15.0       |      0.0       |      2.0       |      17.0      |\n",
      "| 2006-12-16 | 17:30:00 |        3.702        |         0.52          | 235.09  |       15.8       |      0.0       |      1.0       |      17.0      |\n",
      "| 2006-12-16 | 17:31:00 |         3.7         |         0.52          | 235.22  |       15.8       |      0.0       |      1.0       |      17.0      |\n",
      "| 2006-12-16 | 17:38:00 |        4.054        |         0.422         | 235.24  |       17.6       |      0.0       |      1.0       |      17.0      |\n",
      "| 2006-12-16 | 17:39:00 |        3.384        |         0.282         | 237.14  |       14.2       |      0.0       |      0.0       |      17.0      |\n",
      "| 2006-12-16 | 17:40:00 |        3.27         |         0.152         | 236.73  |       13.8       |      0.0       |      0.0       |      17.0      |\n",
      "| 2006-12-16 | 17:41:00 |        3.43         |         0.156         | 237.06  |       14.4       |      0.0       |      0.0       |      17.0      |\n",
      "| 2006-12-16 | 17:42:00 |        3.266        |          0.0          | 237.13  |       13.8       |      0.0       |      0.0       |      18.0      |\n",
      "| 2006-12-16 | 17:43:00 |        3.728        |          0.0          | 235.84  |       16.4       |      0.0       |      0.0       |      17.0      |\n",
      "| 2006-12-16 | 17:49:00 |        3.248        |          0.0          | 236.66  |       13.6       |      0.0       |      0.0       |      17.0      |\n",
      "| 2006-12-16 | 17:50:00 |        3.236        |          0.0          | 235.84  |       13.6       |      0.0       |      0.0       |      17.0      |\n",
      "| 2006-12-16 | 17:51:00 |        3.228        |          0.0          |  235.6  |       13.6       |      0.0       |      0.0       |      17.0      |\n",
      "| 2006-12-16 | 17:52:00 |        3.258        |          0.0          | 235.49  |       13.8       |      0.0       |      0.0       |      17.0      |\n",
      "| 2006-12-16 | 17:53:00 |        3.178        |          0.0          | 235.28  |       13.4       |      0.0       |      0.0       |      17.0      |\n",
      "+------------+----------+---------------------+-----------------------+---------+------------------+----------------+----------------+----------------+\n",
      "Перші 15 рядків NumPy масиву:\n",
      "+------------+----------+-------+-------+--------+------+-----+-----+------+\n",
      "| 2006-12-16 | 17:28:00 | 3.666 | 0.528 | 235.68 | 15.8 | 0.0 | 1.0 | 17.0 |\n",
      "| 2006-12-16 | 17:29:00 | 3.52  | 0.522 | 235.02 | 15.0 | 0.0 | 2.0 | 17.0 |\n",
      "| 2006-12-16 | 17:30:00 | 3.702 | 0.52  | 235.09 | 15.8 | 0.0 | 1.0 | 17.0 |\n",
      "| 2006-12-16 | 17:31:00 |  3.7  | 0.52  | 235.22 | 15.8 | 0.0 | 1.0 | 17.0 |\n",
      "| 2006-12-16 | 17:38:00 | 4.054 | 0.422 | 235.24 | 17.6 | 0.0 | 1.0 | 17.0 |\n",
      "| 2006-12-16 | 17:39:00 | 3.384 | 0.282 | 237.14 | 14.2 | 0.0 | 0.0 | 17.0 |\n",
      "| 2006-12-16 | 17:40:00 | 3.27  | 0.152 | 236.73 | 13.8 | 0.0 | 0.0 | 17.0 |\n",
      "| 2006-12-16 | 17:41:00 | 3.43  | 0.156 | 237.06 | 14.4 | 0.0 | 0.0 | 17.0 |\n",
      "| 2006-12-16 | 17:42:00 | 3.266 |  0.0  | 237.13 | 13.8 | 0.0 | 0.0 | 18.0 |\n",
      "| 2006-12-16 | 17:43:00 | 3.728 |  0.0  | 235.84 | 16.4 | 0.0 | 0.0 | 17.0 |\n",
      "| 2006-12-16 | 17:49:00 | 3.248 |  0.0  | 236.66 | 13.6 | 0.0 | 0.0 | 17.0 |\n",
      "| 2006-12-16 | 17:50:00 | 3.236 |  0.0  | 235.84 | 13.6 | 0.0 | 0.0 | 17.0 |\n",
      "| 2006-12-16 | 17:51:00 | 3.228 |  0.0  | 235.6  | 13.6 | 0.0 | 0.0 | 17.0 |\n",
      "| 2006-12-16 | 17:52:00 | 3.258 |  0.0  | 235.49 | 13.8 | 0.0 | 0.0 | 17.0 |\n",
      "| 2006-12-16 | 17:53:00 | 3.178 |  0.0  | 235.28 | 13.4 | 0.0 | 0.0 | 17.0 |\n",
      "+------------+----------+-------+-------+--------+------+-----+-----+------+\n"
     ]
    }
   ],
   "source": [
    "household_df_result_2 = household_df_2(cleaned_data_frame)\n",
    "household_numpy_result_2 = household_numpy_2(cleaned_data_frame_numpy)\n",
    "print_head(household_df_result_2)\n",
    "print_head(household_numpy_result_2) "
   ]
  },
  {
   "cell_type": "markdown",
   "metadata": {},
   "source": [
    "Обрати всі домогосподарства, у яких сила струму лежить в межах 19-20 А, для них виявити ті, у яких пральна машина та холодильних споживають більше, ніж бойлер та кондиціонер."
   ]
  },
  {
   "cell_type": "code",
   "execution_count": 19,
   "metadata": {},
   "outputs": [],
   "source": [
    "def household_df_3(cleaned_data_frame):\n",
    "    start_time = time.time() \n",
    "    filtered_households = cleaned_data_frame[(cleaned_data_frame[\"Global_intensity\"] >= 19) & (cleaned_data_frame[\"Global_intensity\"] <= 20)]\n",
    "    filtered_households = filtered_households[(filtered_households[\"Sub_metering_2\"] > filtered_households[\"Sub_metering_3\"])]\n",
    "    end_time = time.time() \n",
    "    execution_time = end_time - start_time  \n",
    "    print(\"Час виконання для DataFrame:\", execution_time)\n",
    "    return filtered_households\n",
    "\n",
    "def household_numpy_3(cleaned_data_frame_numpy):\n",
    "    start_time = time.time()\n",
    "    filtered_households = cleaned_data_frame_numpy[\n",
    "        (cleaned_data_frame_numpy[:, 5] >= 19) & \n",
    "        (cleaned_data_frame_numpy[:, 5] <= 20)\n",
    "    ]\n",
    "    filtered_households = filtered_households[\n",
    "        (filtered_households[:, 7] > filtered_households[:, 8])\n",
    "    ]\n",
    "    end_time = time.time()\n",
    "    execution_time = end_time - start_time\n",
    "    print(\"Час виконання для NumPy:\", execution_time)\n",
    "    return filtered_households     "
   ]
  },
  {
   "cell_type": "code",
   "execution_count": 20,
   "metadata": {},
   "outputs": [
    {
     "name": "stdout",
     "output_type": "stream",
     "text": [
      "Час виконання для DataFrame: 0.011049747467041016\n",
      "Час виконання для NumPy: 0.14353132247924805\n",
      "Перші 15 рядків:\n",
      "+------------+----------+---------------------+-----------------------+---------+------------------+----------------+----------------+----------------+\n",
      "|    Date    |   Time   | Global_active_power | Global_reactive_power | Voltage | Global_intensity | Sub_metering_1 | Sub_metering_2 | Sub_metering_3 |\n",
      "+------------+----------+---------------------+-----------------------+---------+------------------+----------------+----------------+----------------+\n",
      "| 2006-12-16 | 18:09:00 |        4.464        |         0.136         | 234.66  |       19.0       |      0.0       |      37.0      |      16.0      |\n",
      "| 2006-12-17 | 01:04:00 |        4.582        |         0.258         | 238.08  |       19.6       |      0.0       |      13.0      |      0.0       |\n",
      "| 2006-12-17 | 01:08:00 |        4.618        |         0.104         | 239.61  |       19.6       |      0.0       |      27.0      |      0.0       |\n",
      "| 2006-12-17 | 01:19:00 |        4.636        |         0.14          | 237.37  |       19.4       |      0.0       |      36.0      |      0.0       |\n",
      "| 2006-12-17 | 01:20:00 |        4.634        |         0.152         | 237.17  |       19.4       |      0.0       |      35.0      |      0.0       |\n",
      "| 2006-12-17 | 01:21:00 |        4.652        |         0.142         | 237.92  |       19.4       |      0.0       |      36.0      |      0.0       |\n",
      "| 2006-12-17 | 01:52:00 |        4.622        |         0.24          | 239.59  |       19.2       |      0.0       |      37.0      |      0.0       |\n",
      "| 2006-12-17 | 09:08:00 |        4.762        |         0.088         | 237.44  |       20.0       |      0.0       |      38.0      |      0.0       |\n",
      "| 2006-12-17 | 09:09:00 |        4.506        |         0.088         | 237.25  |       19.0       |      0.0       |      38.0      |      0.0       |\n",
      "| 2006-12-17 | 10:55:00 |        4.444        |         0.136         | 235.97  |       19.2       |      2.0       |      50.0      |      17.0      |\n",
      "| 2006-12-18 | 19:23:00 |        4.642        |          0.4          | 233.62  |       19.8       |      0.0       |      36.0      |      0.0       |\n",
      "| 2006-12-18 | 19:24:00 |        4.58         |         0.39          | 232.51  |       19.6       |      0.0       |      37.0      |      0.0       |\n",
      "| 2006-12-19 | 09:04:00 |        4.674        |         0.104         | 236.91  |       19.6       |      38.0      |      18.0      |      17.0      |\n",
      "| 2006-12-19 | 11:05:00 |        4.602        |          0.0          | 237.24  |       19.4       |      0.0       |      73.0      |      0.0       |\n",
      "| 2006-12-19 | 11:06:00 |        4.698        |          0.0          | 237.94  |       19.6       |      0.0       |      73.0      |      0.0       |\n",
      "+------------+----------+---------------------+-----------------------+---------+------------------+----------------+----------------+----------------+\n",
      "Перші 15 рядків:\n",
      "+------------+----------+-------+-------+--------+------+------+------+------+\n",
      "| 2006-12-16 | 18:09:00 | 4.464 | 0.136 | 234.66 | 19.0 | 0.0  | 37.0 | 16.0 |\n",
      "| 2006-12-17 | 01:04:00 | 4.582 | 0.258 | 238.08 | 19.6 | 0.0  | 13.0 | 0.0  |\n",
      "| 2006-12-17 | 01:08:00 | 4.618 | 0.104 | 239.61 | 19.6 | 0.0  | 27.0 | 0.0  |\n",
      "| 2006-12-17 | 01:19:00 | 4.636 | 0.14  | 237.37 | 19.4 | 0.0  | 36.0 | 0.0  |\n",
      "| 2006-12-17 | 01:20:00 | 4.634 | 0.152 | 237.17 | 19.4 | 0.0  | 35.0 | 0.0  |\n",
      "| 2006-12-17 | 01:21:00 | 4.652 | 0.142 | 237.92 | 19.4 | 0.0  | 36.0 | 0.0  |\n",
      "| 2006-12-17 | 01:52:00 | 4.622 | 0.24  | 239.59 | 19.2 | 0.0  | 37.0 | 0.0  |\n",
      "| 2006-12-17 | 09:08:00 | 4.762 | 0.088 | 237.44 | 20.0 | 0.0  | 38.0 | 0.0  |\n",
      "| 2006-12-17 | 09:09:00 | 4.506 | 0.088 | 237.25 | 19.0 | 0.0  | 38.0 | 0.0  |\n",
      "| 2006-12-17 | 10:55:00 | 4.444 | 0.136 | 235.97 | 19.2 | 2.0  | 50.0 | 17.0 |\n",
      "| 2006-12-18 | 19:23:00 | 4.642 |  0.4  | 233.62 | 19.8 | 0.0  | 36.0 | 0.0  |\n",
      "| 2006-12-18 | 19:24:00 | 4.58  | 0.39  | 232.51 | 19.6 | 0.0  | 37.0 | 0.0  |\n",
      "| 2006-12-19 | 09:04:00 | 4.674 | 0.104 | 236.91 | 19.6 | 38.0 | 18.0 | 17.0 |\n",
      "| 2006-12-19 | 11:05:00 | 4.602 |  0.0  | 237.24 | 19.4 | 0.0  | 73.0 | 0.0  |\n",
      "| 2006-12-19 | 11:06:00 | 4.698 |  0.0  | 237.94 | 19.6 | 0.0  | 73.0 | 0.0  |\n",
      "+------------+----------+-------+-------+--------+------+------+------+------+\n"
     ]
    }
   ],
   "source": [
    "household_df_result_3 = household_df_3(cleaned_data_frame)\n",
    "household_numpy_result_3 = household_numpy_3(cleaned_data_frame_numpy)\n",
    "print_head(household_df_result_3)\n",
    "print_head(household_numpy_result_3) "
   ]
  },
  {
   "cell_type": "markdown",
   "metadata": {},
   "source": [
    "Обрати випадковим чином 500000 домогосподарств (без повторів елементів вибірки), для них обчислити середні величини усіх 3-х\n",
    "груп споживання електричної енергії."
   ]
  },
  {
   "cell_type": "code",
   "execution_count": 21,
   "metadata": {},
   "outputs": [],
   "source": [
    "def household_df_4(data_frame, n_samples=500000):\n",
    "    start_time = time.time()\n",
    "    random_households = data_frame.sample(n=n_samples, replace=False)\n",
    "    mean_values = random_households[['Sub_metering_1', 'Sub_metering_2', 'Sub_metering_3']].mean()\n",
    "    end_time = time.time()\n",
    "    execution_time = end_time - start_time\n",
    "    print(\"Час виконання для DataFrame:\", execution_time)\n",
    "    return mean_values\n",
    "\n",
    "def household_numpy_4(data_frame_numpy, n_samples=500000):\n",
    "    start_time = time.time()\n",
    "    random_indices = np.random.choice(data_frame_numpy.shape[0], size=n_samples, replace=False)\n",
    "    random_households = data_frame_numpy[random_indices]\n",
    "    mean_values = np.mean(random_households[:, 6:9], axis=0)\n",
    "    end_time = time.time()\n",
    "    execution_time = end_time - start_time\n",
    "    print(\"Час виконання для NumPy:\", execution_time)\n",
    "    return mean_values\n"
   ]
  },
  {
   "cell_type": "code",
   "execution_count": 24,
   "metadata": {},
   "outputs": [
    {
     "name": "stdout",
     "output_type": "stream",
     "text": [
      "Час виконання для DataFrame: 0.3820977210998535\n",
      "Час виконання для NumPy: 1.3606486320495605\n",
      "\n",
      " DataFrame результати:\n",
      "Sub_metering_1: 1.119124\n",
      "Sub_metering_2: 1.284634\n",
      "NumPy результат:\n",
      "[1.126472 1.29371 6.459546]\n",
      "\n"
     ]
    }
   ],
   "source": [
    "household_df_result_4 = household_df_4(cleaned_data_frame)\n",
    "household_numpy_result_4 = household_numpy_4(cleaned_data_frame_numpy)\n",
    "print(\"\\n DataFrame результати:\")\n",
    "print(\"Sub_metering_1:\", household_df_result_4[\"Sub_metering_1\"])\n",
    "print(\"Sub_metering_2:\", household_df_result_4[\"Sub_metering_2\"])\n",
    "print(\"NumPy результат:\")\n",
    "print(household_numpy_result_4)\n",
    "print()"
   ]
  },
  {
   "cell_type": "markdown",
   "metadata": {},
   "source": [
    "Обрати ті домогосподарства, які після 18-00 споживають понад 6 кВт за хвилину в середньому, серед відібраних визначити ті, у яких основне споживання електроенергії у вказаний проміжок часу припадає на пральну машину, сушарку, холодильник та освітлення\n",
    "(група 2 є найбільшою), а потім обрати кожен третій результат із першої половини та кожен четвертий результат із другої половини."
   ]
  },
  {
   "cell_type": "code",
   "execution_count": 25,
   "metadata": {},
   "outputs": [],
   "source": [
    "def household_df_5(cleaned_data_frame):\n",
    "    start_time = time.time()\n",
    "    \n",
    "    selected_households = cleaned_data_frame[\n",
    "        (cleaned_data_frame['Time'] > datetime.strptime('18:00:00', '%H:%M:%S').time()) &\n",
    "        (cleaned_data_frame['Global_active_power'] > 6) &\n",
    "        (cleaned_data_frame['Sub_metering_2'] > cleaned_data_frame['Sub_metering_1']) &\n",
    "        (cleaned_data_frame['Sub_metering_2'] > cleaned_data_frame['Sub_metering_3'])\n",
    "    ]\n",
    "\n",
    "    midpoint = len(selected_households) // 2\n",
    "    \n",
    "    group1 = selected_households.iloc[:midpoint]\n",
    "    group2 = selected_households.iloc[midpoint:]\n",
    "    \n",
    "    result_group1 = group1.iloc[::3]\n",
    "    result_group2 = group2.iloc[::4]\n",
    "    \n",
    "    result_df = pd.concat([result_group1, result_group2])\n",
    "    end_time = time.time()\n",
    "    execution_time = end_time - start_time\n",
    "    print(\"Час виконання для DataFrame:\", execution_time)\n",
    "    \n",
    "    return result_df\n",
    "\n",
    "\n",
    "def household_numpy_5(cleaned_data_frame_numpy):\n",
    "    start_time = time.time()\n",
    "\n",
    "    selected_time_power = cleaned_data_frame_numpy[cleaned_data_frame_numpy[:, 1] > datetime.strptime('18:00:00', '%H:%M:%S').time()]\n",
    "    selected_households = selected_time_power[selected_time_power[:, 2] > 6]\n",
    "    selected_households = selected_households[(selected_households[:, 7] > selected_households[:, 6]) & \n",
    "                                              (selected_households[:, 7] > selected_households[:, 8])]\n",
    "    \n",
    "    midpoint = len(selected_households) // 2\n",
    "    \n",
    "    group1 = selected_households[:midpoint]\n",
    "    group2 = selected_households[midpoint:]\n",
    "    \n",
    "    result_group1 = group1[::3]\n",
    "    result_group2 = group2[::4]\n",
    "    \n",
    "    result_np = np.concatenate([result_group1, result_group2])\n",
    "    \n",
    "    end_time = time.time()\n",
    "    execution_time = end_time - start_time\n",
    "    print(\"Час виконання для NumPy:\", execution_time)\n",
    "    \n",
    "    return result_np"
   ]
  },
  {
   "cell_type": "code",
   "execution_count": 26,
   "metadata": {},
   "outputs": [
    {
     "name": "stdout",
     "output_type": "stream",
     "text": [
      "Час виконання для DataFrame: 0.11941313743591309\n",
      "Перші 15 рядків:\n",
      "+------------+----------+---------------------+-----------------------+---------+------------------+----------------+----------------+----------------+\n",
      "|    Date    |   Time   | Global_active_power | Global_reactive_power | Voltage | Global_intensity | Sub_metering_1 | Sub_metering_2 | Sub_metering_3 |\n",
      "+------------+----------+---------------------+-----------------------+---------+------------------+----------------+----------------+----------------+\n",
      "| 2006-12-16 | 18:05:00 |        6.052        |         0.192         | 232.93  |       26.2       |      0.0       |      37.0      |      17.0      |\n",
      "| 2006-12-16 | 18:08:00 |        6.308        |         0.116         | 232.25  |       27.0       |      0.0       |      36.0      |      17.0      |\n",
      "| 2006-12-28 | 20:58:00 |        6.386        |         0.374         | 236.63  |       27.0       |      1.0       |      36.0      |      17.0      |\n",
      "| 2006-12-28 | 21:02:00 |        8.088        |         0.262         |  235.5  |       34.4       |      1.0       |      72.0      |      17.0      |\n",
      "| 2006-12-28 | 21:05:00 |        7.23         |         0.152         | 235.22  |       30.6       |      1.0       |      73.0      |      17.0      |\n",
      "| 2006-12-28 | 21:08:00 |        7.352        |          0.0          | 235.45  |       31.2       |      1.0       |      73.0      |      17.0      |\n",
      "| 2006-12-28 | 21:11:00 |        9.048        |          0.0          | 231.48  |       39.0       |      34.0      |      71.0      |      16.0      |\n",
      "| 2006-12-28 | 21:14:00 |        9.118        |         0.108         | 231.18  |       39.4       |      36.0      |      72.0      |      16.0      |\n",
      "| 2006-12-28 | 21:17:00 |        7.04         |         0.13          | 233.27  |       30.2       |      37.0      |      38.0      |      17.0      |\n",
      "| 2006-12-29 | 21:16:00 |        6.146        |         0.116         | 230.53  |       26.6       |      0.0       |      70.0      |      0.0       |\n",
      "| 2006-12-29 | 21:19:00 |        6.184        |         0.138         | 231.57  |       26.6       |      0.0       |      70.0      |      0.0       |\n",
      "| 2006-12-29 | 21:22:00 |        6.214        |         0.12          | 230.53  |       26.8       |      0.0       |      70.0      |      0.0       |\n",
      "| 2006-12-29 | 21:25:00 |        6.086        |          0.0          | 229.04  |       26.6       |      0.0       |      69.0      |      0.0       |\n",
      "| 2006-12-29 | 21:29:00 |        6.66         |          0.0          |  229.0  |       29.0       |      0.0       |      69.0      |      17.0      |\n",
      "| 2006-12-29 | 22:28:00 |         6.3         |         0.294         | 236.08  |       26.8       |      0.0       |      65.0      |      17.0      |\n",
      "+------------+----------+---------------------+-----------------------+---------+------------------+----------------+----------------+----------------+\n",
      "Час виконання для NumPy: 0.08571672439575195\n",
      "Перші 15 рядків:\n",
      "+------------+----------+-------+-------+--------+------+------+------+------+\n",
      "| 2006-12-16 | 18:05:00 | 6.052 | 0.192 | 232.93 | 26.2 | 0.0  | 37.0 | 17.0 |\n",
      "| 2006-12-16 | 18:08:00 | 6.308 | 0.116 | 232.25 | 27.0 | 0.0  | 36.0 | 17.0 |\n",
      "| 2006-12-28 | 20:58:00 | 6.386 | 0.374 | 236.63 | 27.0 | 1.0  | 36.0 | 17.0 |\n",
      "| 2006-12-28 | 21:02:00 | 8.088 | 0.262 | 235.5  | 34.4 | 1.0  | 72.0 | 17.0 |\n",
      "| 2006-12-28 | 21:05:00 | 7.23  | 0.152 | 235.22 | 30.6 | 1.0  | 73.0 | 17.0 |\n",
      "| 2006-12-28 | 21:08:00 | 7.352 |  0.0  | 235.45 | 31.2 | 1.0  | 73.0 | 17.0 |\n",
      "| 2006-12-28 | 21:11:00 | 9.048 |  0.0  | 231.48 | 39.0 | 34.0 | 71.0 | 16.0 |\n",
      "| 2006-12-28 | 21:14:00 | 9.118 | 0.108 | 231.18 | 39.4 | 36.0 | 72.0 | 16.0 |\n",
      "| 2006-12-28 | 21:17:00 | 7.04  | 0.13  | 233.27 | 30.2 | 37.0 | 38.0 | 17.0 |\n",
      "| 2006-12-29 | 21:16:00 | 6.146 | 0.116 | 230.53 | 26.6 | 0.0  | 70.0 | 0.0  |\n",
      "| 2006-12-29 | 21:19:00 | 6.184 | 0.138 | 231.57 | 26.6 | 0.0  | 70.0 | 0.0  |\n",
      "| 2006-12-29 | 21:22:00 | 6.214 | 0.12  | 230.53 | 26.8 | 0.0  | 70.0 | 0.0  |\n",
      "| 2006-12-29 | 21:25:00 | 6.086 |  0.0  | 229.04 | 26.6 | 0.0  | 69.0 | 0.0  |\n",
      "| 2006-12-29 | 21:29:00 | 6.66  |  0.0  | 229.0  | 29.0 | 0.0  | 69.0 | 17.0 |\n",
      "| 2006-12-29 | 22:28:00 |  6.3  | 0.294 | 236.08 | 26.8 | 0.0  | 65.0 | 17.0 |\n",
      "+------------+----------+-------+-------+--------+------+------+------+------+\n"
     ]
    }
   ],
   "source": [
    "household_df_result_5 = household_df_5(cleaned_data_frame)\n",
    "print_head(household_df_result_5) \n",
    "\n",
    "household_numpy_result_5 = household_numpy_5(cleaned_data_frame_numpy)\n",
    "print_head(household_numpy_result_5) "
   ]
  },
  {
   "cell_type": "markdown",
   "metadata": {},
   "source": [
    "Висновки:<br>\n",
    "Оцінка DataFrame - 4.9<br>\n",
    "Оцінка Numpy - 4.5<br>\n",
    "\n",
    "<table border=\"1\">\n",
    "\t<thead>\n",
    "\t\t<tr>\n",
    "\t\t\t<th>Тип структури даних</th>\n",
    "\t\t\t<th>Завдання 1</th>\n",
    "\t\t\t<th>Завдання 2</th>\n",
    "\t\t\t<th>Завдання 3</th>\n",
    "\t\t\t<th>Завдання 4</th>\n",
    "\t\t\t<th>Завдання 5</th>\n",
    "\t\t</tr>\n",
    "\t</thead>\n",
    "\t<tbody>\n",
    "\t\t<tr>\n",
    "\t\t\t<td>DataFrame</td>\n",
    "\t\t\t<td>0.0062</td>\n",
    "\t\t\t<td>0.1145</td>\n",
    "\t\t\t<td>0.0114</td>\n",
    "\t\t\t<td>0.2403</td>\n",
    "\t\t\t<td>0.0706</td>\n",
    "\t\t</tr>\n",
    "\t\t<tr>\n",
    "\t\t\t<td>Numpy</td>\n",
    "\t\t\t<td>0.0338</td>\n",
    "\t\t\t<td>0.2091</td>\n",
    "\t\t\t<td>0.0651</td>\n",
    "\t\t\t<td>0.6901</td>\n",
    "\t\t\t<td>0.0846</td>\n",
    "\t\t</tr>\n",
    "\t</tbody>\n",
    "</table>"
   ]
  },
  {
   "cell_type": "code",
   "execution_count": null,
   "metadata": {},
   "outputs": [],
   "source": []
  }
 ],
 "metadata": {
  "kernelspec": {
   "display_name": "Python 3 (ipykernel)",
   "language": "python",
   "name": "python3"
  },
  "language_info": {
   "codemirror_mode": {
    "name": "ipython",
    "version": 3
   },
   "file_extension": ".py",
   "mimetype": "text/x-python",
   "name": "python",
   "nbconvert_exporter": "python",
   "pygments_lexer": "ipython3",
   "version": "3.12.10"
  }
 },
 "nbformat": 4,
 "nbformat_minor": 4
}
